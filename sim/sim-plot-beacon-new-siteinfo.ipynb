{
 "cells": [
  {
   "cell_type": "markdown",
   "metadata": {},
   "source": [
    "# Experiment plotting\n",
    "\n",
    "This notebook contains the code for plotting results for the different experiments.\n",
    "When run for the first time for a town, condensed summary files are being created which strongly speed up subsequent generations of plots from the same summaries. It is possible to create the plots only from the condensed summaries located in 'summaries/condensed_summaries'.\n",
    "Note that this works for all experiments but the Rt plots, which still require the full summary file.\n"
   ]
  },
  {
   "cell_type": "code",
   "execution_count": 10,
   "metadata": {},
   "outputs": [],
   "source": [
    "%load_ext autoreload\n",
    "%autoreload 2"
   ]
  },
  {
   "cell_type": "code",
   "execution_count": 11,
   "metadata": {},
   "outputs": [],
   "source": [
    "import os\n",
    "import pandas as pd\n",
    "import pickle\n",
    "import itertools\n",
    "from lib.measures import *\n",
    "from lib.experiment import Experiment, Plot, Result, get_properties, load_summary_list, load_summary\n",
    "from lib.data import collect_data_from_df\n",
    "from lib.calibrationSettings import calibration_lockdown_dates, calibration_start_dates, calibration_mob_paths\n",
    "from lib.calibrationFunctions import get_calibrated_params, downsample_cases\n",
    "import lib.plot as lib_plot\n",
    "from lib.plot import Plotter\n",
    "import matplotlib.pyplot as plt\n",
    "from lib.summary import load_condensed_summary, get_tracing_probability\n",
    "from matplotlib import colors"
   ]
  },
  {
   "cell_type": "code",
   "execution_count": 12,
   "metadata": {},
   "outputs": [],
   "source": [
    "commithash = 'a1d7d05'"
   ]
  },
  {
   "cell_type": "markdown",
   "metadata": {},
   "source": [
    "# Reduction of different quantities compared to baseline"
   ]
  },
  {
   "cell_type": "code",
   "execution_count": 30,
   "metadata": {},
   "outputs": [
    {
     "data": {
      "text/plain": [
       "True"
      ]
     },
     "execution_count": 30,
     "metadata": {},
     "output_type": "execute_result"
    }
   ],
   "source": [
    "a = defaultdict(lambda: False)\n",
    "a['a']= True\n",
    "a['a']"
   ]
  },
  {
   "cell_type": "code",
   "execution_count": 23,
   "metadata": {},
   "outputs": [
    {
     "ename": "NameError",
     "evalue": "name 'p_adoption' is not defined",
     "output_type": "error",
     "traceback": [
      "\u001b[0;31m---------------------------------------------------------------------------\u001b[0m",
      "\u001b[0;31mNameError\u001b[0m                                 Traceback (most recent call last)",
      "\u001b[0;32m<ipython-input-23-dc43f01a5ab1>\u001b[0m in \u001b[0;36m<module>\u001b[0;34m\u001b[0m\n\u001b[1;32m     37\u001b[0m     \u001b[0;32mreturn\u001b[0m \u001b[0mpath\u001b[0m\u001b[0;34m\u001b[0m\u001b[0;34m\u001b[0m\u001b[0m\n\u001b[1;32m     38\u001b[0m \u001b[0;34m\u001b[0m\u001b[0m\n\u001b[0;32m---> 39\u001b[0;31m \u001b[0mget_path_siteinfo\u001b[0m\u001b[0;34m(\u001b[0m\u001b[0mmode\u001b[0m\u001b[0;34m,\u001b[0m \u001b[0mcommithash\u001b[0m\u001b[0;34m,\u001b[0m \u001b[0mp_adoption\u001b[0m\u001b[0;34m,\u001b[0m \u001b[0mbeacon_proportion\u001b[0m\u001b[0;34m,\u001b[0m \u001b[0misolation_cap\u001b[0m\u001b[0;34m)\u001b[0m\u001b[0;34m\u001b[0m\u001b[0;34m\u001b[0m\u001b[0m\n\u001b[0m",
      "\u001b[0;31mNameError\u001b[0m: name 'p_adoption' is not defined"
     ]
    }
   ],
   "source": [
    "def get_path_siteinfo(mode, commithash, p_adoption=None, beacon_proportion=None, isolation_cap=None):\n",
    "    country = 'GER'\n",
    "    area = 'TU'\n",
    "    \n",
    "    if mode == 'PanCast':\n",
    "        path = (f'PanCast/pancast-tracing-siteinfo-{country}-{area}-{commithash}/'\n",
    "            f'pancast-tracing-siteinfo-{country}-{area}'\n",
    "            f'-p_adoption={p_adoption}'\n",
    "            f'-beacon_proportion={beacon_proportion}'\n",
    "            f'-beacon_mode=visit_freq'\n",
    "            f'-p2p_beacon=False'\n",
    "            f'-p_recall=0.0'\n",
    "            f'-p_manual_reachability=0.0'\n",
    "            f'-beta_dispersion=True'\n",
    "            f'-isolation_cap={isolation_cap}'\n",
    "            f'.pk')\n",
    "        \n",
    "    elif mode == 'SPECTs':\n",
    "        path = (f'PanCast/spect-tracing-siteinfo-{country}-{area}-{commithash}/'\n",
    "                  f'spect-tracing-siteinfo-{country}-{area}'\n",
    "                  f'-p_adoption={p_adoption}'\n",
    "                  f'-p_recall=0.0'\n",
    "                  f'-p_manual_reachability=0.0'\n",
    "                  f'-beta_dispersion=True'\n",
    "                  f'-isolation_cap={isolation_cap}'\n",
    "                  f'.pk')\n",
    "        \n",
    "    elif mode == 'baseline':\n",
    "        path = (f'PanCast/spect-tracing-siteinfo-{country}-{area}-{commithash}/'\n",
    "                  f'spect-tracing-siteinfo-{country}-{area}'\n",
    "                  f'-p_adoption=0.0'\n",
    "                  f'-p_recall=0.0'\n",
    "                  f'-p_manual_reachability=0.0'\n",
    "                  f'-beta_dispersion=True'\n",
    "                  f'-isolation_cap=0.1'\n",
    "                  f'.pk')\n",
    "    return path\n",
    "\n",
    "get_path_siteinfo(mode, commithash, p_adoption, beacon_proportion, isolation_cap)"
   ]
  },
  {
   "cell_type": "code",
   "execution_count": 18,
   "metadata": {
    "scrolled": true
   },
   "outputs": [
    {
     "ename": "FileNotFoundError",
     "evalue": "[Errno 2] No such file or directory: 'condensed_summaries/PanCast/spect-tracing-siteinfo-GER-TU-a1d7d05/spect-tracing-siteinfo-GER-TU-p_adoption=0.0-p_recall=0.0-p_manual_reachability=0.0-beta_dispersion=True-isolation_cap=0.1_condensed.pk'",
     "output_type": "error",
     "traceback": [
      "\u001b[0;31m---------------------------------------------------------------------------\u001b[0m",
      "\u001b[0;31mFileNotFoundError\u001b[0m                         Traceback (most recent call last)",
      "\u001b[0;32m<ipython-input-18-f5b8ec85dacf>\u001b[0m in \u001b[0;36m<module>\u001b[0;34m\u001b[0m\n\u001b[1;32m     70\u001b[0m     \u001b[0mshow_reduction\u001b[0m\u001b[0;34m=\u001b[0m\u001b[0;32mTrue\u001b[0m\u001b[0;34m,\u001b[0m\u001b[0;34m\u001b[0m\u001b[0;34m\u001b[0m\u001b[0m\n\u001b[1;32m     71\u001b[0m     \u001b[0misolation_cap\u001b[0m\u001b[0;34m=\u001b[0m\u001b[0;36m0.1\u001b[0m\u001b[0;34m,\u001b[0m\u001b[0;34m\u001b[0m\u001b[0;34m\u001b[0m\u001b[0m\n\u001b[0;32m---> 72\u001b[0;31m     \u001b[0mcommithash\u001b[0m\u001b[0;34m=\u001b[0m\u001b[0mcommithash\u001b[0m\u001b[0;34m\u001b[0m\u001b[0;34m\u001b[0m\u001b[0m\n\u001b[0m\u001b[1;32m     73\u001b[0m )\n",
      "\u001b[0;32m<ipython-input-18-f5b8ec85dacf>\u001b[0m in \u001b[0;36mplot_relative_reduction\u001b[0;34m(country, area, mode, ps_adoption, beacon_proportions, isolation_cap, show_reduction, ylim, commithash)\u001b[0m\n\u001b[1;32m     59\u001b[0m                                    \u001b[0mfigsize\u001b[0m\u001b[0;34m=\u001b[0m\u001b[0mlib_plot\u001b[0m\u001b[0;34m.\u001b[0m\u001b[0mFIG_SIZE_FULL_PAGE_DOUBLE_ARXIV_TALL\u001b[0m\u001b[0;34m,\u001b[0m\u001b[0;34m\u001b[0m\u001b[0;34m\u001b[0m\u001b[0m\n\u001b[1;32m     60\u001b[0m                                    \u001b[0mfigformat\u001b[0m\u001b[0;34m=\u001b[0m\u001b[0;34m'neurips-double'\u001b[0m\u001b[0;34m,\u001b[0m\u001b[0;34m\u001b[0m\u001b[0;34m\u001b[0m\u001b[0m\n\u001b[0;32m---> 61\u001b[0;31m                                    legend_is_left=True)\n\u001b[0m\u001b[1;32m     62\u001b[0m \u001b[0;34m\u001b[0m\u001b[0m\n\u001b[1;32m     63\u001b[0m \u001b[0;34m\u001b[0m\u001b[0m\n",
      "\u001b[0;32m~/code/covid19/simulator/sim/lib/plot.py\u001b[0m in \u001b[0;36mcompare_peak_reduction\u001b[0;34m(self, path_list, baseline_path, ps_adoption, titles, mode, show_reduction, log_xscale, ylim, area_population, colors, figformat, filename, figsize, show_legend, legend_is_left, subplot_adjust)\u001b[0m\n\u001b[1;32m   2465\u001b[0m         \u001b[0mzorders\u001b[0m \u001b[0;34m=\u001b[0m \u001b[0;34m[\u001b[0m\u001b[0;36m10\u001b[0m\u001b[0;34m,\u001b[0m \u001b[0;36m9\u001b[0m\u001b[0;34m,\u001b[0m \u001b[0;36m8\u001b[0m\u001b[0;34m,\u001b[0m \u001b[0;36m7\u001b[0m\u001b[0;34m,\u001b[0m \u001b[0;36m6\u001b[0m\u001b[0;34m,\u001b[0m \u001b[0;36m5\u001b[0m\u001b[0;34m,\u001b[0m \u001b[0;36m4\u001b[0m\u001b[0;34m,\u001b[0m \u001b[0;36m3\u001b[0m\u001b[0;34m,\u001b[0m \u001b[0;36m2\u001b[0m\u001b[0;34m,\u001b[0m \u001b[0;36m1\u001b[0m\u001b[0;34m]\u001b[0m\u001b[0;34m\u001b[0m\u001b[0;34m\u001b[0m\u001b[0m\n\u001b[1;32m   2466\u001b[0m \u001b[0;34m\u001b[0m\u001b[0m\n\u001b[0;32m-> 2467\u001b[0;31m         \u001b[0mbaseline_data\u001b[0m \u001b[0;34m=\u001b[0m \u001b[0mload_condensed_summary\u001b[0m\u001b[0;34m(\u001b[0m\u001b[0mbaseline_path\u001b[0m\u001b[0;34m)\u001b[0m\u001b[0;34m\u001b[0m\u001b[0;34m\u001b[0m\u001b[0m\n\u001b[0m\u001b[1;32m   2468\u001b[0m \u001b[0;34m\u001b[0m\u001b[0m\n\u001b[1;32m   2469\u001b[0m         \u001b[0;32mfor\u001b[0m \u001b[0mi\u001b[0m\u001b[0;34m,\u001b[0m \u001b[0mpaths\u001b[0m \u001b[0;32min\u001b[0m \u001b[0menumerate\u001b[0m\u001b[0;34m(\u001b[0m\u001b[0mpath_list\u001b[0m\u001b[0;34m)\u001b[0m\u001b[0;34m:\u001b[0m\u001b[0;34m\u001b[0m\u001b[0;34m\u001b[0m\u001b[0m\n",
      "\u001b[0;32m~/code/covid19/simulator/sim/lib/summary.py\u001b[0m in \u001b[0;36mload_condensed_summary\u001b[0;34m(summary_path, acc)\u001b[0m\n\u001b[1;32m     59\u001b[0m \u001b[0;34m\u001b[0m\u001b[0m\n\u001b[1;32m     60\u001b[0m \u001b[0;32mdef\u001b[0m \u001b[0mload_condensed_summary\u001b[0m\u001b[0;34m(\u001b[0m\u001b[0msummary_path\u001b[0m\u001b[0;34m,\u001b[0m \u001b[0macc\u001b[0m\u001b[0;34m=\u001b[0m\u001b[0;32mNone\u001b[0m\u001b[0;34m)\u001b[0m\u001b[0;34m:\u001b[0m\u001b[0;34m\u001b[0m\u001b[0;34m\u001b[0m\u001b[0m\n\u001b[0;32m---> 61\u001b[0;31m     \u001b[0;32mwith\u001b[0m \u001b[0mopen\u001b[0m\u001b[0;34m(\u001b[0m\u001b[0mos\u001b[0m\u001b[0;34m.\u001b[0m\u001b[0mpath\u001b[0m\u001b[0;34m.\u001b[0m\u001b[0mjoin\u001b[0m\u001b[0;34m(\u001b[0m\u001b[0;34m'condensed_summaries'\u001b[0m\u001b[0;34m,\u001b[0m \u001b[0msummary_path\u001b[0m\u001b[0;34m[\u001b[0m\u001b[0;34m:\u001b[0m\u001b[0;34m-\u001b[0m\u001b[0;36m3\u001b[0m\u001b[0;34m]\u001b[0m\u001b[0;34m+\u001b[0m\u001b[0;34mf'_condensed.pk'\u001b[0m\u001b[0;34m)\u001b[0m\u001b[0;34m,\u001b[0m \u001b[0;34m'rb'\u001b[0m\u001b[0;34m)\u001b[0m \u001b[0;32mas\u001b[0m \u001b[0mfp\u001b[0m\u001b[0;34m:\u001b[0m\u001b[0;34m\u001b[0m\u001b[0;34m\u001b[0m\u001b[0m\n\u001b[0m\u001b[1;32m     62\u001b[0m         \u001b[0mdata\u001b[0m \u001b[0;34m=\u001b[0m \u001b[0mpickle\u001b[0m\u001b[0;34m.\u001b[0m\u001b[0mload\u001b[0m\u001b[0;34m(\u001b[0m\u001b[0mfp\u001b[0m\u001b[0;34m)\u001b[0m\u001b[0;34m\u001b[0m\u001b[0;34m\u001b[0m\u001b[0m\n\u001b[1;32m     63\u001b[0m     \u001b[0mprint\u001b[0m\u001b[0;34m(\u001b[0m\u001b[0;34m'Loaded previously extracted data.'\u001b[0m\u001b[0;34m)\u001b[0m\u001b[0;34m\u001b[0m\u001b[0;34m\u001b[0m\u001b[0m\n",
      "\u001b[0;31mFileNotFoundError\u001b[0m: [Errno 2] No such file or directory: 'condensed_summaries/PanCast/spect-tracing-siteinfo-GER-TU-a1d7d05/spect-tracing-siteinfo-GER-TU-p_adoption=0.0-p_recall=0.0-p_manual_reachability=0.0-beta_dispersion=True-isolation_cap=0.1_condensed.pk'"
     ]
    },
    {
     "data": {
      "image/png": "[encoded data removed]",
      "text/plain": [
       "<Figure size 525x262.5 with 1 Axes>"
      ]
     },
     "metadata": {
      "needs_background": "light"
     },
     "output_type": "display_data"
    }
   ],
   "source": [
    "def plot_relative_reduction(*, country, area, mode, ps_adoption, beacon_proportions, isolation_cap,\n",
    "                            show_reduction=True,  \n",
    "                            ylim=None, commithash=None):\n",
    "        \n",
    "    if mode == 'r_eff':\n",
    "        if area == 'TU':\n",
    "            from lib.settings.town_settings_tubingen import town_population\n",
    "        else:\n",
    "            raise NotImplementedError('Specify town population')\n",
    "    else:\n",
    "        town_population = None\n",
    "        \n",
    "\n",
    "    if ylim is None:\n",
    "        if mode == 'r_eff' and show_reduction:\n",
    "            ylim = (0.0, 50)\n",
    "        elif mode == 'r_eff' and not show_reduction:\n",
    "            ylim= (1.0, 3.5)\n",
    "            \n",
    "    \n",
    "    \n",
    "    plot_filename = (f'comparison-{mode}-{country}-{area}'\n",
    "                    f'beta_dispersion'\n",
    "                    f'-reduction={show_reduction}'\n",
    "                    f'-beacon_mode=visit-freq'\n",
    "                    f'-manual_tracing=False')\n",
    "    paths = [\n",
    "                [get_path_siteinfo(mode='SPECTs', \n",
    "                                   commithash=commithash, \n",
    "                                   p_adoption=p_adoption, \n",
    "                                   beacon_proportion=None, \n",
    "                                   isolation_cap=isolation_cap) for p_adoption in ps_adoption]\n",
    "            ]\n",
    "    titles = ['SPECTs']\n",
    "    \n",
    "    for beacon_proportion in beacon_proportions:\n",
    "        paths.append([get_path_siteinfo(mode='PanCast', \n",
    "                                   commithash=commithash, \n",
    "                                   p_adoption=p_adoption, \n",
    "                                   beacon_proportion=beacon_proportion, \n",
    "                                   isolation_cap=isolation_cap) for p_adoption in ps_adoption])\n",
    "                     \n",
    "        titles.append(f'PanCast, beacons at {int(beacon_proportion*100)}\\% of sites')\n",
    "\n",
    "        \n",
    "    baseline_path = get_path_siteinfo(mode='baseline', commithash=commithash)\n",
    "\n",
    "    plotter = Plotter()\n",
    "    plotter.compare_peak_reduction(path_list=paths, \n",
    "                                   baseline_path=baseline_path, \n",
    "                                   ps_adoption=ps_adoption,\n",
    "                                   area_population=town_population,\n",
    "                                   titles=titles,\n",
    "                                   mode=mode,\n",
    "                                   show_reduction=show_reduction,\n",
    "                                   log_xscale=True,\n",
    "                                   ylim=ylim,\n",
    "                                   filename=plot_filename,\n",
    "                                   figsize=lib_plot.FIG_SIZE_FULL_PAGE_DOUBLE_ARXIV_TALL, \n",
    "                                   figformat='neurips-double',\n",
    "                                   legend_is_left=True)\n",
    "\n",
    "              \n",
    "plot_relative_reduction(\n",
    "    country='GER', \n",
    "    area='TU', \n",
    "    mode='cumu_infected',   # Allowed values ['cumu_infected', 'hosp', 'dead', 'r_eff']\n",
    "    ps_adoption=[1.0, 0.5, 0.25, 0.1, 0.05],\n",
    "    beacon_proportions=[1.0, 0.25, 0.1, 0.05],#, 0.02],\n",
    "    show_reduction=True,\n",
    "    isolation_cap=0.1,\n",
    "    commithash=commithash\n",
    ")"
   ]
  },
  {
   "cell_type": "markdown",
   "metadata": {},
   "source": [
    "# Quantities over time"
   ]
  },
  {
   "cell_type": "code",
   "execution_count": 19,
   "metadata": {},
   "outputs": [
    {
     "name": "stdout",
     "output_type": "stream",
     "text": [
      "Extracting data from summary: PanCast/pancast-tracing-siteinfo-GER-TU-a1d7d05/pancast-tracing-siteinfo-GER-TU-p_adoption=0.25-beacon_proportion=0.25-beacon_mode=visit_freq-p2p_beacon=False-p_recall=0.0-p_manual_reachability=0.0-beta_dispersion=True-isolation_cap=0.1.pk\n"
     ]
    },
    {
     "ename": "FileNotFoundError",
     "evalue": "[Errno 2] No such file or directory: 'summaries/PanCast/pancast-tracing-siteinfo-GER-TU-a1d7d05/pancast-tracing-siteinfo-GER-TU-p_adoption=0.25-beacon_proportion=0.25-beacon_mode=visit_freq-p2p_beacon=False-p_recall=0.0-p_manual_reachability=0.0-beta_dispersion=True-isolation_cap=0.1.pk'",
     "output_type": "error",
     "traceback": [
      "\u001b[0;31m---------------------------------------------------------------------------\u001b[0m",
      "\u001b[0;31mFileNotFoundError\u001b[0m                         Traceback (most recent call last)",
      "\u001b[0;32m~/code/covid19/simulator/sim/lib/summary.py\u001b[0m in \u001b[0;36mload_condensed_summary_compat\u001b[0;34m(summary_path)\u001b[0m\n\u001b[1;32m     70\u001b[0m     \u001b[0;32mtry\u001b[0m\u001b[0;34m:\u001b[0m\u001b[0;34m\u001b[0m\u001b[0;34m\u001b[0m\u001b[0m\n\u001b[0;32m---> 71\u001b[0;31m         \u001b[0mdata\u001b[0m \u001b[0;34m=\u001b[0m \u001b[0mload_condensed_summary\u001b[0m\u001b[0;34m(\u001b[0m\u001b[0msummary_path\u001b[0m\u001b[0;34m)\u001b[0m\u001b[0;34m\u001b[0m\u001b[0;34m\u001b[0m\u001b[0m\n\u001b[0m\u001b[1;32m     72\u001b[0m     \u001b[0;32mexcept\u001b[0m \u001b[0mFileNotFoundError\u001b[0m\u001b[0;34m:\u001b[0m\u001b[0;34m\u001b[0m\u001b[0;34m\u001b[0m\u001b[0m\n",
      "\u001b[0;32m~/code/covid19/simulator/sim/lib/summary.py\u001b[0m in \u001b[0;36mload_condensed_summary\u001b[0;34m(summary_path, acc)\u001b[0m\n\u001b[1;32m     60\u001b[0m \u001b[0;32mdef\u001b[0m \u001b[0mload_condensed_summary\u001b[0m\u001b[0;34m(\u001b[0m\u001b[0msummary_path\u001b[0m\u001b[0;34m,\u001b[0m \u001b[0macc\u001b[0m\u001b[0;34m=\u001b[0m\u001b[0;32mNone\u001b[0m\u001b[0;34m)\u001b[0m\u001b[0;34m:\u001b[0m\u001b[0;34m\u001b[0m\u001b[0;34m\u001b[0m\u001b[0m\n\u001b[0;32m---> 61\u001b[0;31m     \u001b[0;32mwith\u001b[0m \u001b[0mopen\u001b[0m\u001b[0;34m(\u001b[0m\u001b[0mos\u001b[0m\u001b[0;34m.\u001b[0m\u001b[0mpath\u001b[0m\u001b[0;34m.\u001b[0m\u001b[0mjoin\u001b[0m\u001b[0;34m(\u001b[0m\u001b[0;34m'condensed_summaries'\u001b[0m\u001b[0;34m,\u001b[0m \u001b[0msummary_path\u001b[0m\u001b[0;34m[\u001b[0m\u001b[0;34m:\u001b[0m\u001b[0;34m-\u001b[0m\u001b[0;36m3\u001b[0m\u001b[0;34m]\u001b[0m\u001b[0;34m+\u001b[0m\u001b[0;34mf'_condensed.pk'\u001b[0m\u001b[0;34m)\u001b[0m\u001b[0;34m,\u001b[0m \u001b[0;34m'rb'\u001b[0m\u001b[0;34m)\u001b[0m \u001b[0;32mas\u001b[0m \u001b[0mfp\u001b[0m\u001b[0;34m:\u001b[0m\u001b[0;34m\u001b[0m\u001b[0;34m\u001b[0m\u001b[0m\n\u001b[0m\u001b[1;32m     62\u001b[0m         \u001b[0mdata\u001b[0m \u001b[0;34m=\u001b[0m \u001b[0mpickle\u001b[0m\u001b[0;34m.\u001b[0m\u001b[0mload\u001b[0m\u001b[0;34m(\u001b[0m\u001b[0mfp\u001b[0m\u001b[0;34m)\u001b[0m\u001b[0;34m\u001b[0m\u001b[0;34m\u001b[0m\u001b[0m\n",
      "\u001b[0;31mFileNotFoundError\u001b[0m: [Errno 2] No such file or directory: 'condensed_summaries/PanCast/pancast-tracing-siteinfo-GER-TU-a1d7d05/pancast-tracing-siteinfo-GER-TU-p_adoption=0.25-beacon_proportion=0.25-beacon_mode=visit_freq-p2p_beacon=False-p_recall=0.0-p_manual_reachability=0.0-beta_dispersion=True-isolation_cap=0.1_condensed.pk'",
      "\nDuring handling of the above exception, another exception occurred:\n",
      "\u001b[0;31mFileNotFoundError\u001b[0m                         Traceback (most recent call last)",
      "\u001b[0;32m<ipython-input-19-bd7e75238364>\u001b[0m in \u001b[0;36m<module>\u001b[0;34m\u001b[0m\n\u001b[1;32m     48\u001b[0m     \u001b[0mymax\u001b[0m\u001b[0;34m=\u001b[0m\u001b[0;36m20000\u001b[0m\u001b[0;34m,\u001b[0m\u001b[0;34m\u001b[0m\u001b[0;34m\u001b[0m\u001b[0m\n\u001b[1;32m     49\u001b[0m     \u001b[0mp_adoption\u001b[0m\u001b[0;34m=\u001b[0m\u001b[0;36m0.25\u001b[0m\u001b[0;34m,\u001b[0m\u001b[0;34m\u001b[0m\u001b[0;34m\u001b[0m\u001b[0m\n\u001b[0;32m---> 50\u001b[0;31m     \u001b[0mbeacon_proportion\u001b[0m\u001b[0;34m=\u001b[0m\u001b[0;36m0.25\u001b[0m\u001b[0;34m,\u001b[0m\u001b[0;34m\u001b[0m\u001b[0;34m\u001b[0m\u001b[0m\n\u001b[0m\u001b[1;32m     51\u001b[0m )\n",
      "\u001b[0;32m<ipython-input-19-bd7e75238364>\u001b[0m in \u001b[0;36mplot_experiment_over_time\u001b[0;34m(country, area, quantity, mode, ymax, p_adoption, beacon_proportion, isolation_cap)\u001b[0m\n\u001b[1;32m     37\u001b[0m         \u001b[0mfigsize\u001b[0m\u001b[0;34m=\u001b[0m\u001b[0mlib_plot\u001b[0m\u001b[0;34m.\u001b[0m\u001b[0mFIG_SIZE_FULL_PAGE_DOUBLE_ARXIV_TALL\u001b[0m\u001b[0;34m,\u001b[0m\u001b[0;34m\u001b[0m\u001b[0;34m\u001b[0m\u001b[0m\n\u001b[1;32m     38\u001b[0m         \u001b[0mfigformat\u001b[0m\u001b[0;34m=\u001b[0m\u001b[0;34m'neurips-double'\u001b[0m\u001b[0;34m,\u001b[0m\u001b[0;34m\u001b[0m\u001b[0;34m\u001b[0m\u001b[0m\n\u001b[0;32m---> 39\u001b[0;31m         legend_is_left=True)\n\u001b[0m\u001b[1;32m     40\u001b[0m \u001b[0;34m\u001b[0m\u001b[0m\n\u001b[1;32m     41\u001b[0m \u001b[0;34m\u001b[0m\u001b[0m\n",
      "\u001b[0;32m~/code/covid19/simulator/sim/lib/plot.py\u001b[0m in \u001b[0;36mcompare_quantity\u001b[0;34m(self, sims, titles, quantity, mode, ymax, start_date, xtick_interval, x_axis_dates, figformat, filename, figsize, lockdown_label, lockdown_at, lockdown_label_y, lockdown_xshift, show_legend, legend_is_left, subplot_adjust)\u001b[0m\n\u001b[1;32m    892\u001b[0m \u001b[0;34m\u001b[0m\u001b[0m\n\u001b[1;32m    893\u001b[0m         \u001b[0;32mfor\u001b[0m \u001b[0mi\u001b[0m\u001b[0;34m,\u001b[0m \u001b[0msim\u001b[0m \u001b[0;32min\u001b[0m \u001b[0menumerate\u001b[0m\u001b[0;34m(\u001b[0m\u001b[0msims\u001b[0m\u001b[0;34m)\u001b[0m\u001b[0;34m:\u001b[0m\u001b[0;34m\u001b[0m\u001b[0;34m\u001b[0m\u001b[0m\n\u001b[0;32m--> 894\u001b[0;31m             \u001b[0mdata\u001b[0m \u001b[0;34m=\u001b[0m \u001b[0mload_condensed_summary_compat\u001b[0m\u001b[0;34m(\u001b[0m\u001b[0msim\u001b[0m\u001b[0;34m)\u001b[0m\u001b[0;34m\u001b[0m\u001b[0;34m\u001b[0m\u001b[0m\n\u001b[0m\u001b[1;32m    895\u001b[0m             \u001b[0mline_cases\u001b[0m\u001b[0;34m,\u001b[0m \u001b[0merror_cases\u001b[0m \u001b[0;34m=\u001b[0m \u001b[0mget_plot_data\u001b[0m\u001b[0;34m(\u001b[0m\u001b[0mdata\u001b[0m\u001b[0;34m,\u001b[0m \u001b[0mquantity\u001b[0m\u001b[0;34m=\u001b[0m\u001b[0mquantity\u001b[0m\u001b[0;34m,\u001b[0m \u001b[0mmode\u001b[0m\u001b[0;34m=\u001b[0m\u001b[0mmode\u001b[0m\u001b[0;34m)\u001b[0m\u001b[0;34m\u001b[0m\u001b[0;34m\u001b[0m\u001b[0m\n\u001b[1;32m    896\u001b[0m \u001b[0;34m\u001b[0m\u001b[0m\n",
      "\u001b[0;32m~/code/covid19/simulator/sim/lib/summary.py\u001b[0m in \u001b[0;36mload_condensed_summary_compat\u001b[0;34m(summary_path)\u001b[0m\n\u001b[1;32m     71\u001b[0m         \u001b[0mdata\u001b[0m \u001b[0;34m=\u001b[0m \u001b[0mload_condensed_summary\u001b[0m\u001b[0;34m(\u001b[0m\u001b[0msummary_path\u001b[0m\u001b[0;34m)\u001b[0m\u001b[0;34m\u001b[0m\u001b[0;34m\u001b[0m\u001b[0m\n\u001b[1;32m     72\u001b[0m     \u001b[0;32mexcept\u001b[0m \u001b[0mFileNotFoundError\u001b[0m\u001b[0;34m:\u001b[0m\u001b[0;34m\u001b[0m\u001b[0;34m\u001b[0m\u001b[0m\n\u001b[0;32m---> 73\u001b[0;31m         \u001b[0m_\u001b[0m \u001b[0;34m=\u001b[0m \u001b[0mcreate_condensed_summary_from_path\u001b[0m\u001b[0;34m(\u001b[0m\u001b[0msummary_path\u001b[0m\u001b[0;34m,\u001b[0m \u001b[0macc\u001b[0m\u001b[0;34m=\u001b[0m\u001b[0;36m500\u001b[0m\u001b[0;34m)\u001b[0m\u001b[0;34m\u001b[0m\u001b[0;34m\u001b[0m\u001b[0m\n\u001b[0m\u001b[1;32m     74\u001b[0m         \u001b[0mdata\u001b[0m \u001b[0;34m=\u001b[0m \u001b[0mload_condensed_summary\u001b[0m\u001b[0;34m(\u001b[0m\u001b[0msummary_path\u001b[0m\u001b[0;34m)\u001b[0m\u001b[0;34m\u001b[0m\u001b[0;34m\u001b[0m\u001b[0m\n\u001b[1;32m     75\u001b[0m     \u001b[0;32mreturn\u001b[0m \u001b[0mdata\u001b[0m\u001b[0;34m\u001b[0m\u001b[0;34m\u001b[0m\u001b[0m\n",
      "\u001b[0;32m~/code/covid19/simulator/sim/lib/summary.py\u001b[0m in \u001b[0;36mcreate_condensed_summary_from_path\u001b[0;34m(summary_path, acc)\u001b[0m\n\u001b[1;32m     45\u001b[0m \u001b[0;32mdef\u001b[0m \u001b[0mcreate_condensed_summary_from_path\u001b[0m\u001b[0;34m(\u001b[0m\u001b[0msummary_path\u001b[0m\u001b[0;34m,\u001b[0m \u001b[0macc\u001b[0m\u001b[0;34m=\u001b[0m\u001b[0;36m500\u001b[0m\u001b[0;34m)\u001b[0m\u001b[0;34m:\u001b[0m\u001b[0;34m\u001b[0m\u001b[0;34m\u001b[0m\u001b[0m\n\u001b[1;32m     46\u001b[0m     \u001b[0mprint\u001b[0m\u001b[0;34m(\u001b[0m\u001b[0;34mf'Extracting data from summary: {summary_path}'\u001b[0m\u001b[0;34m)\u001b[0m\u001b[0;34m\u001b[0m\u001b[0;34m\u001b[0m\u001b[0m\n\u001b[0;32m---> 47\u001b[0;31m     \u001b[0mresult\u001b[0m \u001b[0;34m=\u001b[0m \u001b[0mload_summary\u001b[0m\u001b[0;34m(\u001b[0m\u001b[0msummary_path\u001b[0m\u001b[0;34m)\u001b[0m\u001b[0;34m\u001b[0m\u001b[0;34m\u001b[0m\u001b[0m\n\u001b[0m\u001b[1;32m     48\u001b[0m     \u001b[0mmetadata\u001b[0m \u001b[0;34m=\u001b[0m \u001b[0mresult\u001b[0m\u001b[0;34m[\u001b[0m\u001b[0;36m0\u001b[0m\u001b[0;34m]\u001b[0m\u001b[0;34m\u001b[0m\u001b[0;34m\u001b[0m\u001b[0m\n\u001b[1;32m     49\u001b[0m     \u001b[0msummary\u001b[0m \u001b[0;34m=\u001b[0m \u001b[0mresult\u001b[0m\u001b[0;34m[\u001b[0m\u001b[0;36m1\u001b[0m\u001b[0;34m]\u001b[0m\u001b[0;34m\u001b[0m\u001b[0;34m\u001b[0m\u001b[0m\n",
      "\u001b[0;32m~/code/covid19/simulator/sim/lib/summary.py\u001b[0m in \u001b[0;36mload_summary\u001b[0;34m(path)\u001b[0m\n\u001b[1;32m     27\u001b[0m \u001b[0;32mdef\u001b[0m \u001b[0mload_summary\u001b[0m\u001b[0;34m(\u001b[0m\u001b[0mpath\u001b[0m\u001b[0;34m)\u001b[0m\u001b[0;34m:\u001b[0m\u001b[0;34m\u001b[0m\u001b[0;34m\u001b[0m\u001b[0m\n\u001b[1;32m     28\u001b[0m     \u001b[0;34m'''Loads summary file'''\u001b[0m\u001b[0;34m\u001b[0m\u001b[0;34m\u001b[0m\u001b[0m\n\u001b[0;32m---> 29\u001b[0;31m     \u001b[0;32mwith\u001b[0m \u001b[0mopen\u001b[0m\u001b[0;34m(\u001b[0m\u001b[0mos\u001b[0m\u001b[0;34m.\u001b[0m\u001b[0mpath\u001b[0m\u001b[0;34m.\u001b[0m\u001b[0mjoin\u001b[0m\u001b[0;34m(\u001b[0m\u001b[0;34m'summaries'\u001b[0m\u001b[0;34m,\u001b[0m \u001b[0mpath\u001b[0m\u001b[0;34m)\u001b[0m\u001b[0;34m,\u001b[0m \u001b[0;34m'rb'\u001b[0m\u001b[0;34m)\u001b[0m \u001b[0;32mas\u001b[0m \u001b[0mfp\u001b[0m\u001b[0;34m:\u001b[0m\u001b[0;34m\u001b[0m\u001b[0;34m\u001b[0m\u001b[0m\n\u001b[0m\u001b[1;32m     30\u001b[0m         \u001b[0mobj\u001b[0m \u001b[0;34m=\u001b[0m \u001b[0mpickle\u001b[0m\u001b[0;34m.\u001b[0m\u001b[0mload\u001b[0m\u001b[0;34m(\u001b[0m\u001b[0mfp\u001b[0m\u001b[0;34m)\u001b[0m\u001b[0;34m\u001b[0m\u001b[0;34m\u001b[0m\u001b[0m\n\u001b[1;32m     31\u001b[0m     \u001b[0;32mreturn\u001b[0m \u001b[0mobj\u001b[0m\u001b[0;34m\u001b[0m\u001b[0;34m\u001b[0m\u001b[0m\n",
      "\u001b[0;31mFileNotFoundError\u001b[0m: [Errno 2] No such file or directory: 'summaries/PanCast/pancast-tracing-siteinfo-GER-TU-a1d7d05/pancast-tracing-siteinfo-GER-TU-p_adoption=0.25-beacon_proportion=0.25-beacon_mode=visit_freq-p2p_beacon=False-p_recall=0.0-p_manual_reachability=0.0-beta_dispersion=True-isolation_cap=0.1.pk'"
     ]
    },
    {
     "data": {
      "image/png": "[encoded data removed]",
      "text/plain": [
       "<Figure size 525x262.5 with 1 Axes>"
      ]
     },
     "metadata": {
      "needs_background": "light"
     },
     "output_type": "display_data"
    }
   ],
   "source": [
    "def plot_experiment_over_time(*, country, area, quantity, mode, ymax, \n",
    "                              p_adoption=0.25, beacon_proportion=0.05, isolation_cap=0.1):\n",
    "\n",
    "\n",
    "    paths = [get_path_siteinfo(mode='PanCast', \n",
    "                               commithash=commithash, \n",
    "                               p_adoption=p_adoption, \n",
    "                               beacon_proportion=beacon_proportion, \n",
    "                               isolation_cap=isolation_cap),\n",
    "\n",
    "            get_path_siteinfo(mode='SPECTs', \n",
    "                               commithash=commithash, \n",
    "                               p_adoption=p_adoption, \n",
    "                               beacon_proportion=beacon_proportion, \n",
    "                               isolation_cap=isolation_cap),\n",
    "             \n",
    "             get_path_siteinfo(mode='baseline', \n",
    "                               commithash=commithash)\n",
    "            ]\n",
    "    \n",
    "    labels = [\n",
    "              f'PanCast, {int(p_adoption*100)}\\% adoption, {int(beacon_proportion*100)}\\% beacons',\n",
    "              f'SPECTs, {int(p_adoption*100)}\\% adoption',\n",
    "              f'No measures',\n",
    "             ]\n",
    "    \n",
    "    plot_filename = f'siteinfo-{mode}-{quantity}_over_time-{country}-{area}'\n",
    "    plotter = Plotter()\n",
    "\n",
    "    plotter.compare_quantity(\n",
    "        paths, \n",
    "        titles=labels,\n",
    "        quantity=quantity,\n",
    "        mode=mode,\n",
    "        ymax=ymax,\n",
    "        filename=plot_filename, \n",
    "        figsize=lib_plot.FIG_SIZE_FULL_PAGE_DOUBLE_ARXIV_TALL, \n",
    "        figformat='neurips-double',\n",
    "        legend_is_left=True)\n",
    "    \n",
    "    \n",
    "    \n",
    "plot_experiment_over_time(\n",
    "    country='GER', \n",
    "    area='TU',\n",
    "    quantity='infected',    # Allowed values: ['infected', 'hosp', 'dead']\n",
    "    mode='total',           # Allowed values: ['total', 'daily', 'cumulative', 'weekly incidence']\n",
    "    ymax=20000, \n",
    "    p_adoption=0.25,\n",
    "    beacon_proportion=0.25,\n",
    ")"
   ]
  },
  {
   "cell_type": "markdown",
   "metadata": {},
   "source": [
    "# Rt over time"
   ]
  },
  {
   "cell_type": "code",
   "execution_count": 22,
   "metadata": {},
   "outputs": [
    {
     "ename": "FileNotFoundError",
     "evalue": "[Errno 2] No such file or directory: 'condensed_summaries/PanCast/spect-tracing-siteinfo-GER-TU-a1d7d05/spect-tracing-siteinfo-GER-TU-p_adoption=0.0-p_recall=0.0-p_manual_reachability=0.0-beta_dispersion=True-isolation_cap=0.1_condensed.pk'",
     "output_type": "error",
     "traceback": [
      "\u001b[0;31m---------------------------------------------------------------------------\u001b[0m",
      "\u001b[0;31mFileNotFoundError\u001b[0m                         Traceback (most recent call last)",
      "\u001b[0;32m<ipython-input-22-40d059337e73>\u001b[0m in \u001b[0;36m<module>\u001b[0;34m\u001b[0m\n\u001b[1;32m     73\u001b[0m         \u001b[0mmode\u001b[0m\u001b[0;34m=\u001b[0m\u001b[0mmode\u001b[0m\u001b[0;34m,\u001b[0m\u001b[0;34m\u001b[0m\u001b[0;34m\u001b[0m\u001b[0m\n\u001b[1;32m     74\u001b[0m         \u001b[0mbeacon_proportion\u001b[0m\u001b[0;34m=\u001b[0m\u001b[0;36m0.25\u001b[0m\u001b[0;34m,\u001b[0m\u001b[0;34m\u001b[0m\u001b[0;34m\u001b[0m\u001b[0m\n\u001b[0;32m---> 75\u001b[0;31m         \u001b[0mcommithash\u001b[0m\u001b[0;34m=\u001b[0m\u001b[0mcommithash\u001b[0m\u001b[0;34m\u001b[0m\u001b[0;34m\u001b[0m\u001b[0m\n\u001b[0m\u001b[1;32m     76\u001b[0m     )\n\u001b[1;32m     77\u001b[0m \u001b[0;34m\u001b[0m\u001b[0m\n",
      "\u001b[0;32m<ipython-input-22-40d059337e73>\u001b[0m in \u001b[0;36mplot_rt_over_time\u001b[0;34m(country, area, ps_adoption, mode, beacon_proportion, isolation_cap, commithash)\u001b[0m\n\u001b[1;32m     61\u001b[0m             \u001b[0;31m#xlim=(0, 185),\u001b[0m\u001b[0;34m\u001b[0m\u001b[0;34m\u001b[0m\u001b[0;34m\u001b[0m\u001b[0m\n\u001b[1;32m     62\u001b[0m             \u001b[0mx_axis_dates\u001b[0m\u001b[0;34m=\u001b[0m\u001b[0;32mFalse\u001b[0m\u001b[0;34m,\u001b[0m\u001b[0;34m\u001b[0m\u001b[0;34m\u001b[0m\u001b[0m\n\u001b[0;32m---> 63\u001b[0;31m             \u001b[0msubplots_adjust\u001b[0m\u001b[0;34m=\u001b[0m\u001b[0;34m{\u001b[0m\u001b[0;34m'bottom'\u001b[0m\u001b[0;34m:\u001b[0m\u001b[0;36m0.2\u001b[0m\u001b[0;34m,\u001b[0m \u001b[0;34m'top'\u001b[0m\u001b[0;34m:\u001b[0m \u001b[0;36m0.98\u001b[0m\u001b[0;34m,\u001b[0m \u001b[0;34m'left'\u001b[0m\u001b[0;34m:\u001b[0m \u001b[0;36m0.12\u001b[0m\u001b[0;34m,\u001b[0m \u001b[0;34m'right'\u001b[0m\u001b[0;34m:\u001b[0m \u001b[0;36m0.96\u001b[0m\u001b[0;34m}\u001b[0m\u001b[0;34m,\u001b[0m\u001b[0;34m\u001b[0m\u001b[0;34m\u001b[0m\u001b[0m\n\u001b[0m\u001b[1;32m     64\u001b[0m         )\n\u001b[1;32m     65\u001b[0m \u001b[0;34m\u001b[0m\u001b[0m\n",
      "\u001b[0;32m~/code/covid19/simulator/sim/lib/plot.py\u001b[0m in \u001b[0;36mplot_daily_nbinom_rts\u001b[0;34m(self, path, filename, figsize, figformat, ymax, label, small_figure, cmap_range, subplots_adjust, lockdown_label, lockdown_at, lockdown_label_y, lockdown_xshift, x_axis_dates, xtick_interval, xlim, show_legend, legend_is_left)\u001b[0m\n\u001b[1;32m   1585\u001b[0m \u001b[0;34m\u001b[0m\u001b[0m\n\u001b[1;32m   1586\u001b[0m         \u001b[0;32massert\u001b[0m \u001b[0misinstance\u001b[0m\u001b[0;34m(\u001b[0m\u001b[0mpath\u001b[0m\u001b[0;34m,\u001b[0m \u001b[0mstr\u001b[0m\u001b[0;34m)\u001b[0m\u001b[0;34m,\u001b[0m \u001b[0;34m'`path` must be a string.'\u001b[0m\u001b[0;34m\u001b[0m\u001b[0;34m\u001b[0m\u001b[0m\n\u001b[0;32m-> 1587\u001b[0;31m         \u001b[0mdata\u001b[0m \u001b[0;34m=\u001b[0m \u001b[0mload_condensed_summary\u001b[0m\u001b[0;34m(\u001b[0m\u001b[0mpath\u001b[0m\u001b[0;34m)\u001b[0m\u001b[0;34m\u001b[0m\u001b[0;34m\u001b[0m\u001b[0m\n\u001b[0m\u001b[1;32m   1588\u001b[0m         \u001b[0mmetadata\u001b[0m \u001b[0;34m=\u001b[0m \u001b[0mdata\u001b[0m\u001b[0;34m[\u001b[0m\u001b[0;34m'metadata'\u001b[0m\u001b[0;34m]\u001b[0m\u001b[0;34m\u001b[0m\u001b[0;34m\u001b[0m\u001b[0m\n\u001b[1;32m   1589\u001b[0m         \u001b[0mdf\u001b[0m \u001b[0;34m=\u001b[0m \u001b[0mdata\u001b[0m\u001b[0;34m[\u001b[0m\u001b[0;34m'nbinom_rts'\u001b[0m\u001b[0;34m]\u001b[0m\u001b[0;34m\u001b[0m\u001b[0;34m\u001b[0m\u001b[0m\n",
      "\u001b[0;32m~/code/covid19/simulator/sim/lib/summary.py\u001b[0m in \u001b[0;36mload_condensed_summary\u001b[0;34m(summary_path, acc)\u001b[0m\n\u001b[1;32m     59\u001b[0m \u001b[0;34m\u001b[0m\u001b[0m\n\u001b[1;32m     60\u001b[0m \u001b[0;32mdef\u001b[0m \u001b[0mload_condensed_summary\u001b[0m\u001b[0;34m(\u001b[0m\u001b[0msummary_path\u001b[0m\u001b[0;34m,\u001b[0m \u001b[0macc\u001b[0m\u001b[0;34m=\u001b[0m\u001b[0;32mNone\u001b[0m\u001b[0;34m)\u001b[0m\u001b[0;34m:\u001b[0m\u001b[0;34m\u001b[0m\u001b[0;34m\u001b[0m\u001b[0m\n\u001b[0;32m---> 61\u001b[0;31m     \u001b[0;32mwith\u001b[0m \u001b[0mopen\u001b[0m\u001b[0;34m(\u001b[0m\u001b[0mos\u001b[0m\u001b[0;34m.\u001b[0m\u001b[0mpath\u001b[0m\u001b[0;34m.\u001b[0m\u001b[0mjoin\u001b[0m\u001b[0;34m(\u001b[0m\u001b[0;34m'condensed_summaries'\u001b[0m\u001b[0;34m,\u001b[0m \u001b[0msummary_path\u001b[0m\u001b[0;34m[\u001b[0m\u001b[0;34m:\u001b[0m\u001b[0;34m-\u001b[0m\u001b[0;36m3\u001b[0m\u001b[0;34m]\u001b[0m\u001b[0;34m+\u001b[0m\u001b[0;34mf'_condensed.pk'\u001b[0m\u001b[0;34m)\u001b[0m\u001b[0;34m,\u001b[0m \u001b[0;34m'rb'\u001b[0m\u001b[0;34m)\u001b[0m \u001b[0;32mas\u001b[0m \u001b[0mfp\u001b[0m\u001b[0;34m:\u001b[0m\u001b[0;34m\u001b[0m\u001b[0;34m\u001b[0m\u001b[0m\n\u001b[0m\u001b[1;32m     62\u001b[0m         \u001b[0mdata\u001b[0m \u001b[0;34m=\u001b[0m \u001b[0mpickle\u001b[0m\u001b[0;34m.\u001b[0m\u001b[0mload\u001b[0m\u001b[0;34m(\u001b[0m\u001b[0mfp\u001b[0m\u001b[0;34m)\u001b[0m\u001b[0;34m\u001b[0m\u001b[0;34m\u001b[0m\u001b[0m\n\u001b[1;32m     63\u001b[0m     \u001b[0mprint\u001b[0m\u001b[0;34m(\u001b[0m\u001b[0;34m'Loaded previously extracted data.'\u001b[0m\u001b[0;34m)\u001b[0m\u001b[0;34m\u001b[0m\u001b[0;34m\u001b[0m\u001b[0m\n",
      "\u001b[0;31mFileNotFoundError\u001b[0m: [Errno 2] No such file or directory: 'condensed_summaries/PanCast/spect-tracing-siteinfo-GER-TU-a1d7d05/spect-tracing-siteinfo-GER-TU-p_adoption=0.0-p_recall=0.0-p_manual_reachability=0.0-beta_dispersion=True-isolation_cap=0.1_condensed.pk'"
     ]
    }
   ],
   "source": [
    "def plot_rt_over_time(*, country, area, ps_adoption, mode='spects', beacon_proportion=None, isolation_cap=0.1,\n",
    "                      commithash='c005255'):\n",
    "        \n",
    "    p_recall = 0.0\n",
    "    p_manual_reachability = 0.0\n",
    "        \n",
    "        \n",
    "    if mode == 'spects':\n",
    "        plots = {\n",
    "            f'spect-tracing-siteinfo-p_adoption={p_adoption}-isolation-cap={isolation_cap}' : [\n",
    "                Plot(label='{:3.0f}\\% adoption'.format(100 * p_adoption),\n",
    "                    path=get_path_siteinfo(mode='SPECTs', \n",
    "                                           commithash=commithash, \n",
    "                                           p_adoption=p_adoption, \n",
    "                                           beacon_proportion=beacon_proportion, \n",
    "                                           isolation_cap=isolation_cap))\n",
    "            ]\n",
    "            for p_adoption in ps_adoption\n",
    "        }\n",
    "        labels = [f'SPECTs, {int(p_adoption*100)}\\% adoption' for p_adoption in ps_adoption]\n",
    "        labels = [f'SPECTs']\n",
    "    elif mode == 'baselines':\n",
    "        plots = {\n",
    "            f'baseline_without_manual' :[\n",
    "            Plot(label='no_manual',\n",
    "                path=get_path_siteinfo(mode='baseline', commithash=commithash))],\n",
    "        }\n",
    "        labels = ['Baseline without MT']\n",
    "    elif mode == 'pancast':\n",
    "        plots = {\n",
    "            f'pancast-tracing-siteinfo-p_adoption={p_adoption}-beacons={beacon_proportion}-isolation-cap={isolation_cap}': [\n",
    "                Plot(label='{:3.0f}\\% adoption'.format(100 * p_adoption),\n",
    "                    path=get_path_siteinfo(mode='PanCast', \n",
    "                                           commithash=commithash, \n",
    "                                           p_adoption=p_adoption, \n",
    "                                           beacon_proportion=beacon_proportion, \n",
    "                                           isolation_cap=isolation_cap))\n",
    "            ]\n",
    "            for p_adoption in ps_adoption\n",
    "        }\n",
    "        labels = [f'PanCast, {int(p_adoption*100)}\\% adoption, {int(beacon_proportion*100)}\\% beacons' for p_adoption in ps_adoption]\n",
    "        labels = [f'PanCast, {int(beacon_proportion*100)}\\% beacons']\n",
    "    \n",
    "    for i, (plot_filename, plots) in enumerate(plots.items()):\n",
    "\n",
    "        # extract plot info\n",
    "        # labels = get_properties(plots, 'label')\n",
    "        paths = get_properties(plots, 'path')\n",
    "        path = paths[0]\n",
    "        \n",
    "        # plot\n",
    "        plotter = Plotter()\n",
    "        plotter.plot_daily_nbinom_rts(\n",
    "            path=path, \n",
    "            filename=plot_filename,\n",
    "            cmap_range=(0.5, 1.5),\n",
    "            figsize=lib_plot.FIG_SIZE_NEURIPS_TRIPLE,\n",
    "            figformat='neurips-double',\n",
    "            ymax=3.3,\n",
    "            label=labels[i],\n",
    "            #xlim=(0, 185),\n",
    "            x_axis_dates=False,\n",
    "            subplots_adjust={'bottom':0.2, 'top': 0.98, 'left': 0.12, 'right': 0.96},\n",
    "        )\n",
    "          \n",
    "\n",
    "modes = ['baselines', 'spects', 'pancast']\n",
    "for mode in modes:\n",
    "    plot_rt_over_time(\n",
    "        country='GER', \n",
    "        area='TU', \n",
    "        ps_adoption=[0.25],#, 0.5, 0.25, 0.1, 0.05, 0.0],\n",
    "        mode=mode,\n",
    "        beacon_proportion=0.25,\n",
    "        commithash=commithash\n",
    "    )\n",
    "\n",
    "# Crop pdf margins\n",
    "!bash crop_pdfs.sh plots/daily-nbinom-rts-*.pdf\n",
    "!bash crop_pdfs.sh plots/prob-secondaryCases-*.pdf"
   ]
  }
 ],
 "metadata": {
  "kernelspec": {
   "display_name": "Python3 (covid19)",
   "language": "python",
   "name": "covid19"
  },
  "language_info": {
   "codemirror_mode": {
    "name": "ipython",
    "version": 3
   },
   "file_extension": ".py",
   "mimetype": "text/x-python",
   "name": "python",
   "nbconvert_exporter": "python",
   "pygments_lexer": "ipython3",
   "version": "3.7.3"
  }
 },
 "nbformat": 4,
 "nbformat_minor": 4
}
